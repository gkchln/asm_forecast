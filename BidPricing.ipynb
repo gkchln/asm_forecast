{
 "cells": [
  {
   "cell_type": "markdown",
   "metadata": {},
   "source": [
    "# Set-up"
   ]
  },
  {
   "cell_type": "code",
   "execution_count": 1,
   "metadata": {},
   "outputs": [],
   "source": [
    "import pandas as pd\n",
    "import numpy as np\n",
    "import joblib\n",
    "from sklearn.compose import make_column_transformer\n",
    "from sklearn.preprocessing import OneHotEncoder\n",
    "import matplotlib.pyplot as plt\n",
    "import seaborn as sns\n",
    "sns.set_theme()"
   ]
  },
  {
   "cell_type": "code",
   "execution_count": 5,
   "metadata": {},
   "outputs": [],
   "source": [
    "scope = 'OFF'\n",
    "train_year = 2021\n",
    "\n",
    "cal = {\n",
    "    'OFF': '',\n",
    "    'BID': ''\n",
    "}\n",
    "\n",
    "input_path = f'data/3_output/ML_dataset_{scope}.pkl'\n",
    "predictions_path = f'modeling/{scope}/model_predictions/RF_predicted_probs_monthly_recal_rolling_12m{cal[scope]}.pkl'\n",
    "model_path = f'modeling/{scope}/model_dumps/model_trained_{scope}_{train_year}.joblib'"
   ]
  },
  {
   "cell_type": "code",
   "execution_count": 3,
   "metadata": {},
   "outputs": [],
   "source": [
    "target = 'Result'\n",
    "\n",
    "features_to_encode = [\n",
    "    'MargTech',\n",
    "    'WorkDay',\n",
    "    'Prov',\n",
    "    'Tech',\n",
    "]\n",
    "\n",
    "other_features = [\n",
    "    'hour',\n",
    "    'SC_PC1',\n",
    "    'SC_PC2',\n",
    "    'IN_PC1',\n",
    "    'IN_PC2',\n",
    "    'CT_PC1',\n",
    "    'CT_PC2',\n",
    "    'PurchMGP',\n",
    "    'SellMGP',\n",
    "    'SolarAngle',\n",
    "    'DeclAngle',\n",
    "    'PVnew',\n",
    "    'PriceDiff',\n",
    "]\n",
    "\n",
    "features = other_features + features_to_encode"
   ]
  },
  {
   "cell_type": "markdown",
   "metadata": {},
   "source": [
    "# Load dataset, model predictions and model"
   ]
  },
  {
   "cell_type": "code",
   "execution_count": 4,
   "metadata": {},
   "outputs": [],
   "source": [
    "input_df = pd.read_pickle(input_path)"
   ]
  },
  {
   "cell_type": "code",
   "execution_count": 6,
   "metadata": {},
   "outputs": [],
   "source": [
    "df = input_df.copy()\n",
    "y_probs = pd.read_pickle(predictions_path)\n",
    "df['month'] = df.index.str[4:6].astype(int)\n",
    "df['y_probs'] = y_probs"
   ]
  },
  {
   "cell_type": "code",
   "execution_count": 7,
   "metadata": {},
   "outputs": [],
   "source": [
    "clf = joblib.load(model_path)"
   ]
  },
  {
   "cell_type": "markdown",
   "metadata": {},
   "source": [
    "# Sample bid and get optimal price value"
   ]
  },
  {
   "cell_type": "code",
   "execution_count": 8,
   "metadata": {},
   "outputs": [],
   "source": [
    "# We take of the fact that some categories could be absent in the training set but present in the test set\n",
    "categories = [input_df[feature].unique() for feature in features_to_encode]\n",
    "\n",
    "feature_transformer = make_column_transformer(\n",
    "    (OneHotEncoder(categories=categories), features_to_encode),\n",
    "    remainder=\"passthrough\"\n",
    ")"
   ]
  },
  {
   "cell_type": "code",
   "execution_count": 9,
   "metadata": {},
   "outputs": [],
   "source": [
    "def predict_acc_prob(df, clf):\n",
    "    X = feature_transformer.fit_transform(df[features])\n",
    "    y_probs = clf.predict_proba(X)[:,1]\n",
    "    return y_probs"
   ]
  },
  {
   "cell_type": "code",
   "execution_count": 36,
   "metadata": {},
   "outputs": [
    {
     "data": {
      "text/html": [
       "<div>\n",
       "<style scoped>\n",
       "    .dataframe tbody tr th:only-of-type {\n",
       "        vertical-align: middle;\n",
       "    }\n",
       "\n",
       "    .dataframe tbody tr th {\n",
       "        vertical-align: top;\n",
       "    }\n",
       "\n",
       "    .dataframe thead th {\n",
       "        text-align: right;\n",
       "    }\n",
       "</style>\n",
       "<table border=\"1\" class=\"dataframe\">\n",
       "  <thead>\n",
       "    <tr style=\"text-align: right;\">\n",
       "      <th></th>\n",
       "      <th>hour</th>\n",
       "      <th>date</th>\n",
       "      <th>year</th>\n",
       "      <th>unit</th>\n",
       "      <th>scope</th>\n",
       "      <th>SC_PC1</th>\n",
       "      <th>SC_PC2</th>\n",
       "      <th>IN_PC1</th>\n",
       "      <th>IN_PC2</th>\n",
       "      <th>CT_PC1</th>\n",
       "      <th>...</th>\n",
       "      <th>WorkDay</th>\n",
       "      <th>Prov</th>\n",
       "      <th>Tech</th>\n",
       "      <th>PVold</th>\n",
       "      <th>PVnew</th>\n",
       "      <th>Price</th>\n",
       "      <th>PriceDiff</th>\n",
       "      <th>Result</th>\n",
       "      <th>month</th>\n",
       "      <th>y_probs</th>\n",
       "    </tr>\n",
       "  </thead>\n",
       "  <tbody>\n",
       "    <tr>\n",
       "      <th>2022012213UP_LA_CASELL_2_OFF</th>\n",
       "      <td>13</td>\n",
       "      <td>20220122</td>\n",
       "      <td>2022</td>\n",
       "      <td>UP_LA_CASELL_2</td>\n",
       "      <td>OFF</td>\n",
       "      <td>5.363745</td>\n",
       "      <td>1.464939</td>\n",
       "      <td>2.726665</td>\n",
       "      <td>1.51316</td>\n",
       "      <td>-1.638724</td>\n",
       "      <td>...</td>\n",
       "      <td>holiday</td>\n",
       "      <td>Piacenza</td>\n",
       "      <td>Fossil Gas</td>\n",
       "      <td>0.0</td>\n",
       "      <td>0.0</td>\n",
       "      <td>290.0</td>\n",
       "      <td>0.181</td>\n",
       "      <td>False</td>\n",
       "      <td>1</td>\n",
       "      <td>0.193333</td>\n",
       "    </tr>\n",
       "  </tbody>\n",
       "</table>\n",
       "<p>1 rows × 28 columns</p>\n",
       "</div>"
      ],
      "text/plain": [
       "                              hour      date  year            unit scope  \\\n",
       "2022012213UP_LA_CASELL_2_OFF    13  20220122  2022  UP_LA_CASELL_2   OFF   \n",
       "\n",
       "                                SC_PC1    SC_PC2    IN_PC1   IN_PC2    CT_PC1  \\\n",
       "2022012213UP_LA_CASELL_2_OFF  5.363745  1.464939  2.726665  1.51316 -1.638724   \n",
       "\n",
       "                              ...  WorkDay      Prov        Tech PVold  PVnew  \\\n",
       "2022012213UP_LA_CASELL_2_OFF  ...  holiday  Piacenza  Fossil Gas   0.0    0.0   \n",
       "\n",
       "                              Price  PriceDiff  Result month   y_probs  \n",
       "2022012213UP_LA_CASELL_2_OFF  290.0      0.181   False     1  0.193333  \n",
       "\n",
       "[1 rows x 28 columns]"
      ]
     },
     "execution_count": 36,
     "metadata": {},
     "output_type": "execute_result"
    },
    {
     "data": {
      "image/png": "[encoded data removed]",
      "text/plain": [
       "<Figure size 1000x400 with 2 Axes>"
      ]
     },
     "metadata": {},
     "output_type": "display_data"
    }
   ],
   "source": [
    "year = 2022\n",
    "month = 1\n",
    "tech = 'Fossil Gas'\n",
    "marginal_cost = 200\n",
    "n_prices = 300\n",
    "random_state = 42\n",
    "\n",
    "bid = df[(df.year == year)&(df.Tech == tech)&(df.month == month)].sample(1, random_state=random_state)\n",
    "\n",
    "price_diff = np.linspace(0, 0.3, n_prices)\n",
    "simulated_bids = pd.concat([bid] * n_prices, ignore_index=True)\n",
    "\n",
    "simulated_bids['PriceDiff'] = price_diff\n",
    "simulated_bids['Price'] = simulated_bids['MGPprice'] * (1 + simulated_bids['PriceDiff']) / (1 - simulated_bids['PriceDiff'])\n",
    "simulated_bids['y_probs'] = predict_acc_prob(simulated_bids, clf)\n",
    "simulated_bids['Expected Profit'] = (simulated_bids['Price'] - marginal_cost) * simulated_bids['y_probs']\n",
    "\n",
    "fig, axs = plt.subplots(1, 2, figsize=(10,4))\n",
    "axs[0].plot(simulated_bids['Price'], simulated_bids['y_probs'])\n",
    "axs[1].plot(simulated_bids['Price'], simulated_bids['Expected Profit'])\n",
    "\n",
    "axs[0].set_xlabel('Bid Price [€]')\n",
    "axs[0].set_ylabel('Acceptance Predicted Probability')\n",
    "# axs[0].set_title('Price vs. Predicted Probability')\n",
    "\n",
    "axs[1].set_xlabel('Bid Price [€]')\n",
    "axs[1].set_ylabel('Expected Profit [€/MWh]')\n",
    "# axs[1].set_title('Price vs. Expected Profit')\n",
    "\n",
    "for i in [0, 1]:\n",
    "    axs[i].axvline(x=bid.Price.iloc[0], color='r', linestyle='--', linewidth=1) # Line for the actual bid price\n",
    "    axs[i].axvline(x=simulated_bids.loc[simulated_bids['Expected Profit'].argmax(), 'Price'], color='r', linestyle='-', linewidth=1) # Line for the optimal bid price\n",
    "\n",
    "bid"
   ]
  },
  {
   "cell_type": "markdown",
   "metadata": {},
   "source": [
    "<HR>"
   ]
  },
  {
   "cell_type": "markdown",
   "metadata": {},
   "source": [
    "# TESTS"
   ]
  },
  {
   "cell_type": "code",
   "execution_count": 18,
   "metadata": {},
   "outputs": [
    {
     "data": {
      "text/plain": [
       "267.7909516380655"
      ]
     },
     "execution_count": 18,
     "metadata": {},
     "output_type": "execute_result"
    }
   ],
   "source": [
    "simulated_bids.loc[simulated_bids['Expected Profit'].argmax(), 'Price']"
   ]
  },
  {
   "cell_type": "code",
   "execution_count": 39,
   "metadata": {},
   "outputs": [
    {
     "data": {
      "text/plain": [
       "0.05"
      ]
     },
     "execution_count": 39,
     "metadata": {},
     "output_type": "execute_result"
    }
   ],
   "source": [
    "predict_acc_prob(bid, clf)[0]"
   ]
  },
  {
   "cell_type": "code",
   "execution_count": 17,
   "metadata": {},
   "outputs": [
    {
     "data": {
      "text/plain": [
       "count    3.574411e+06\n",
       "mean     3.521638e-01\n",
       "std      2.170092e-01\n",
       "min     -1.000000e+00\n",
       "25%      2.000000e-01\n",
       "50%      3.030000e-01\n",
       "75%      4.560000e-01\n",
       "max      1.000000e+00\n",
       "Name: PriceDiff, dtype: float64"
      ]
     },
     "execution_count": 17,
     "metadata": {},
     "output_type": "execute_result"
    }
   ],
   "source": [
    "df.PriceDiff.describe()"
   ]
  },
  {
   "cell_type": "code",
   "execution_count": 18,
   "metadata": {},
   "outputs": [
    {
     "data": {
      "text/plain": [
       "<Axes: >"
      ]
     },
     "execution_count": 18,
     "metadata": {},
     "output_type": "execute_result"
    },
    {
     "data": {
      "image/png": "[encoded data removed]",
      "text/plain": [
       "<Figure size 640x480 with 1 Axes>"
      ]
     },
     "metadata": {},
     "output_type": "display_data"
    }
   ],
   "source": [
    "df.PriceDiff.hist()"
   ]
  },
  {
   "cell_type": "code",
   "execution_count": 13,
   "metadata": {},
   "outputs": [
    {
     "data": {
      "text/html": [
       "<div>\n",
       "<style scoped>\n",
       "    .dataframe tbody tr th:only-of-type {\n",
       "        vertical-align: middle;\n",
       "    }\n",
       "\n",
       "    .dataframe tbody tr th {\n",
       "        vertical-align: top;\n",
       "    }\n",
       "\n",
       "    .dataframe thead th {\n",
       "        text-align: right;\n",
       "    }\n",
       "</style>\n",
       "<table border=\"1\" class=\"dataframe\">\n",
       "  <thead>\n",
       "    <tr style=\"text-align: right;\">\n",
       "      <th></th>\n",
       "      <th>hour</th>\n",
       "      <th>date</th>\n",
       "      <th>year</th>\n",
       "      <th>unit</th>\n",
       "      <th>scope</th>\n",
       "      <th>SC_PC1</th>\n",
       "      <th>SC_PC2</th>\n",
       "      <th>IN_PC1</th>\n",
       "      <th>IN_PC2</th>\n",
       "      <th>CT_PC1</th>\n",
       "      <th>...</th>\n",
       "      <th>DeclAngle</th>\n",
       "      <th>WorkDay</th>\n",
       "      <th>Prov</th>\n",
       "      <th>Tech</th>\n",
       "      <th>PVold</th>\n",
       "      <th>PVnew</th>\n",
       "      <th>Price</th>\n",
       "      <th>PriceDiff</th>\n",
       "      <th>Result</th>\n",
       "      <th>y_probs</th>\n",
       "    </tr>\n",
       "  </thead>\n",
       "  <tbody>\n",
       "    <tr>\n",
       "      <th>2021092716UP_LA_CASELL_4_OFF</th>\n",
       "      <td>16</td>\n",
       "      <td>20210927</td>\n",
       "      <td>2021</td>\n",
       "      <td>UP_LA_CASELL_4</td>\n",
       "      <td>OFF</td>\n",
       "      <td>-0.037813</td>\n",
       "      <td>1.386071</td>\n",
       "      <td>3.605057</td>\n",
       "      <td>1.044494</td>\n",
       "      <td>1.057122</td>\n",
       "      <td>...</td>\n",
       "      <td>-2.618404</td>\n",
       "      <td>weekday</td>\n",
       "      <td>Piacenza</td>\n",
       "      <td>Fossil Gas</td>\n",
       "      <td>0.0</td>\n",
       "      <td>0.0</td>\n",
       "      <td>240.0</td>\n",
       "      <td>0.179</td>\n",
       "      <td>False</td>\n",
       "      <td>0.000209</td>\n",
       "    </tr>\n",
       "  </tbody>\n",
       "</table>\n",
       "<p>1 rows × 27 columns</p>\n",
       "</div>"
      ],
      "text/plain": [
       "                              hour      date  year            unit scope  \\\n",
       "2021092716UP_LA_CASELL_4_OFF    16  20210927  2021  UP_LA_CASELL_4   OFF   \n",
       "\n",
       "                                SC_PC1    SC_PC2    IN_PC1    IN_PC2  \\\n",
       "2021092716UP_LA_CASELL_4_OFF -0.037813  1.386071  3.605057  1.044494   \n",
       "\n",
       "                                CT_PC1  ...  DeclAngle  WorkDay      Prov  \\\n",
       "2021092716UP_LA_CASELL_4_OFF  1.057122  ...  -2.618404  weekday  Piacenza   \n",
       "\n",
       "                                    Tech  PVold  PVnew  Price  PriceDiff  \\\n",
       "2021092716UP_LA_CASELL_4_OFF  Fossil Gas    0.0    0.0  240.0      0.179   \n",
       "\n",
       "                             Result   y_probs  \n",
       "2021092716UP_LA_CASELL_4_OFF  False  0.000209  \n",
       "\n",
       "[1 rows x 27 columns]"
      ]
     },
     "execution_count": 13,
     "metadata": {},
     "output_type": "execute_result"
    }
   ],
   "source": [
    "df.sample(1)"
   ]
  }
 ],
 "metadata": {
  "kernelspec": {
   "display_name": "prometheus",
   "language": "python",
   "name": "python3"
  },
  "language_info": {
   "codemirror_mode": {
    "name": "ipython",
    "version": 3
   },
   "file_extension": ".py",
   "mimetype": "text/x-python",
   "name": "python",
   "nbconvert_exporter": "python",
   "pygments_lexer": "ipython3",
   "version": "3.11.3"
  }
 },
 "nbformat": 4,
 "nbformat_minor": 2
}
