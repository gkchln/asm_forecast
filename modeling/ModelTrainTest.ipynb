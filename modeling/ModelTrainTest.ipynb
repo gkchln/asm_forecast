{
 "cells": [
  {
   "cell_type": "markdown",
   "metadata": {},
   "source": [
    "# Set-up"
   ]
  },
  {
   "cell_type": "markdown",
   "metadata": {},
   "source": [
    "## Imports"
   ]
  },
  {
   "cell_type": "code",
   "execution_count": 1,
   "metadata": {},
   "outputs": [],
   "source": [
    "# Standard\n",
    "import pandas as pd\n",
    "import numpy as np\n",
    "pd.options.mode.chained_assignment = None\n",
    "\n",
    "# Plotting\n",
    "import matplotlib.pyplot as plt\n",
    "import seaborn as sns\n",
    "sns.set_theme()\n",
    "from tqdm.notebook import tqdm, trange\n",
    "import plotly.graph_objects as go\n",
    "\n",
    "# Sci-kit learn imports\n",
    "from sklearn.ensemble import RandomForestClassifier\n",
    "from sklearn.compose import make_column_transformer\n",
    "from sklearn.preprocessing import OneHotEncoder\n",
    "from sklearn.metrics import accuracy_score, precision_score, recall_score, average_precision_score, f1_score, classification_report, matthews_corrcoef, PrecisionRecallDisplay\n",
    "import joblib"
   ]
  },
  {
   "cell_type": "markdown",
   "metadata": {},
   "source": [
    "## Parameters"
   ]
  },
  {
   "cell_type": "code",
   "execution_count": 32,
   "metadata": {},
   "outputs": [],
   "source": [
    "scope = 'BID'\n",
    "input_path = f'../data/3_output/ML_dataset_{scope}.pkl'\n",
    "\n",
    "train_years = [2018]\n",
    "test_years = [2020]\n",
    "\n",
    "subsample_size = None\n",
    "\n",
    "target = 'Result'\n",
    "\n",
    "features_to_encode = [\n",
    "    'MargTech',\n",
    "    'WorkDay',\n",
    "    'Prov',\n",
    "    'Tech',\n",
    "]\n",
    "\n",
    "other_features = [\n",
    "    'hour',\n",
    "    'SC_PC1',\n",
    "    'SC_PC2',\n",
    "    'IN_PC1',\n",
    "    'IN_PC2',\n",
    "    'CT_PC1',\n",
    "    'CT_PC2',\n",
    "    'PurchMGP',\n",
    "    'SellMGP',\n",
    "    'SolarAngle',\n",
    "    'DeclAngle',\n",
    "    'PVold',\n",
    "    'PVnew',\n",
    "    'PriceDiff',\n",
    "]\n",
    "\n",
    "features = other_features + features_to_encode"
   ]
  },
  {
   "cell_type": "markdown",
   "metadata": {},
   "source": [
    "## Functions"
   ]
  },
  {
   "cell_type": "code",
   "execution_count": 3,
   "metadata": {},
   "outputs": [],
   "source": [
    "def test_optimal_threshold(y_probs, y_true, plot=True):\n",
    "    precision = []\n",
    "    recall = []\n",
    "    mcc = []\n",
    "    accuracy = []\n",
    "    f1 = []\n",
    "    thresholds = []\n",
    "\n",
    "    for threshold in trange(1, 100):\n",
    "\n",
    "        y_pred = (y_probs >= threshold / 100).astype(bool)\n",
    "\n",
    "        precision.append(precision_score(y_true, y_pred))\n",
    "        recall.append(recall_score(y_true, y_pred))\n",
    "        mcc.append(matthews_corrcoef(y_true, y_pred))\n",
    "        accuracy.append(accuracy_score(y_true, y_pred))\n",
    "        f1.append(f1_score(y_true, y_pred))\n",
    "        thresholds.append(threshold / 100)\n",
    "\n",
    "    if plot:\n",
    "        # Plot graph\n",
    "        fig = go.Figure()\n",
    "        fig.add_trace(go.Scatter(x=thresholds, y=precision, name=\"Precision\"))\n",
    "        fig.add_trace(go.Scatter(x=thresholds, y=recall, name=\"Recall\"))\n",
    "        fig.add_trace(go.Scatter(x=thresholds, y=accuracy, name=\"Accuracy\"))\n",
    "        fig.add_trace(go.Scatter(x=thresholds, y=mcc, name=\"Matthews Correlation Coefficient\"))\n",
    "        fig.add_trace(go.Scatter(x=thresholds, y=f1, name=\"F1-score\"))\n",
    "        fig.update_layout(title=\"Classification performance scores depending on probability threshold\",\n",
    "                        xaxis_title=\"Classification level\",\n",
    "                        font=dict(family=\"Times New Roman, monospace\", size=14, color=\"RebeccaPurple\"),\n",
    "                        template=\"plotly_white\", width=1000, height=700)\n",
    "        fig.show()\n",
    "\n",
    "    return precision, recall, mcc, accuracy, f1, thresholds"
   ]
  },
  {
   "cell_type": "markdown",
   "metadata": {},
   "source": [
    "# Main"
   ]
  },
  {
   "cell_type": "markdown",
   "metadata": {},
   "source": [
    "## Preprocessing"
   ]
  },
  {
   "cell_type": "code",
   "execution_count": 10,
   "metadata": {},
   "outputs": [
    {
     "data": {
      "text/html": [
       "<div>\n",
       "<style scoped>\n",
       "    .dataframe tbody tr th:only-of-type {\n",
       "        vertical-align: middle;\n",
       "    }\n",
       "\n",
       "    .dataframe tbody tr th {\n",
       "        vertical-align: top;\n",
       "    }\n",
       "\n",
       "    .dataframe thead th {\n",
       "        text-align: right;\n",
       "    }\n",
       "</style>\n",
       "<table border=\"1\" class=\"dataframe\">\n",
       "  <thead>\n",
       "    <tr style=\"text-align: right;\">\n",
       "      <th></th>\n",
       "      <th>hour</th>\n",
       "      <th>date</th>\n",
       "      <th>year</th>\n",
       "      <th>unit</th>\n",
       "      <th>scope</th>\n",
       "      <th>SC_PC1</th>\n",
       "      <th>SC_PC2</th>\n",
       "      <th>IN_PC1</th>\n",
       "      <th>IN_PC2</th>\n",
       "      <th>CT_PC1</th>\n",
       "      <th>...</th>\n",
       "      <th>SolarAngle</th>\n",
       "      <th>DeclAngle</th>\n",
       "      <th>WorkDay</th>\n",
       "      <th>Prov</th>\n",
       "      <th>Tech</th>\n",
       "      <th>PVold</th>\n",
       "      <th>PVnew</th>\n",
       "      <th>Price</th>\n",
       "      <th>PriceDiff</th>\n",
       "      <th>Result</th>\n",
       "    </tr>\n",
       "  </thead>\n",
       "  <tbody>\n",
       "    <tr>\n",
       "      <th>2018010118UP_ALTOADDA_1_BID</th>\n",
       "      <td>18</td>\n",
       "      <td>20180101</td>\n",
       "      <td>2018</td>\n",
       "      <td>UP_ALTOADDA_1</td>\n",
       "      <td>BID</td>\n",
       "      <td>2.083112</td>\n",
       "      <td>0.480035</td>\n",
       "      <td>-1.932233</td>\n",
       "      <td>-0.782315</td>\n",
       "      <td>1.912031</td>\n",
       "      <td>...</td>\n",
       "      <td>76.773894</td>\n",
       "      <td>-23.011637</td>\n",
       "      <td>holiday</td>\n",
       "      <td>Milano</td>\n",
       "      <td>Hydro Run-of-river and poundage</td>\n",
       "      <td>0.095</td>\n",
       "      <td>0.095</td>\n",
       "      <td>26.22</td>\n",
       "      <td>-0.349</td>\n",
       "      <td>False</td>\n",
       "    </tr>\n",
       "    <tr>\n",
       "      <th>2018010119UP_ALTOADDA_1_BID</th>\n",
       "      <td>19</td>\n",
       "      <td>20180101</td>\n",
       "      <td>2018</td>\n",
       "      <td>UP_ALTOADDA_1</td>\n",
       "      <td>BID</td>\n",
       "      <td>1.249924</td>\n",
       "      <td>0.598779</td>\n",
       "      <td>-1.772487</td>\n",
       "      <td>-0.866850</td>\n",
       "      <td>0.891173</td>\n",
       "      <td>...</td>\n",
       "      <td>91.773894</td>\n",
       "      <td>-23.011637</td>\n",
       "      <td>holiday</td>\n",
       "      <td>Milano</td>\n",
       "      <td>Hydro Run-of-river and poundage</td>\n",
       "      <td>0.095</td>\n",
       "      <td>0.095</td>\n",
       "      <td>26.22</td>\n",
       "      <td>-0.329</td>\n",
       "      <td>False</td>\n",
       "    </tr>\n",
       "    <tr>\n",
       "      <th>2018010120UP_ALTOADDA_1_BID</th>\n",
       "      <td>20</td>\n",
       "      <td>20180101</td>\n",
       "      <td>2018</td>\n",
       "      <td>UP_ALTOADDA_1</td>\n",
       "      <td>BID</td>\n",
       "      <td>0.243493</td>\n",
       "      <td>0.768175</td>\n",
       "      <td>-1.758348</td>\n",
       "      <td>-0.872364</td>\n",
       "      <td>-0.334594</td>\n",
       "      <td>...</td>\n",
       "      <td>106.773894</td>\n",
       "      <td>-23.011637</td>\n",
       "      <td>holiday</td>\n",
       "      <td>Milano</td>\n",
       "      <td>Hydro Run-of-river and poundage</td>\n",
       "      <td>0.095</td>\n",
       "      <td>0.095</td>\n",
       "      <td>26.22</td>\n",
       "      <td>-0.324</td>\n",
       "      <td>False</td>\n",
       "    </tr>\n",
       "    <tr>\n",
       "      <th>2018010117UP_ARSIE_1_BID</th>\n",
       "      <td>17</td>\n",
       "      <td>20180101</td>\n",
       "      <td>2018</td>\n",
       "      <td>UP_ARSIE_1</td>\n",
       "      <td>BID</td>\n",
       "      <td>3.456008</td>\n",
       "      <td>0.661794</td>\n",
       "      <td>-2.372137</td>\n",
       "      <td>-0.624680</td>\n",
       "      <td>3.037220</td>\n",
       "      <td>...</td>\n",
       "      <td>61.773894</td>\n",
       "      <td>-23.011637</td>\n",
       "      <td>holiday</td>\n",
       "      <td>Belluno</td>\n",
       "      <td>Hydro Run-of-river and poundage</td>\n",
       "      <td>0.627</td>\n",
       "      <td>0.627</td>\n",
       "      <td>0.00</td>\n",
       "      <td>-1.000</td>\n",
       "      <td>False</td>\n",
       "    </tr>\n",
       "    <tr>\n",
       "      <th>2018010118UP_ARSIE_1_BID</th>\n",
       "      <td>18</td>\n",
       "      <td>20180101</td>\n",
       "      <td>2018</td>\n",
       "      <td>UP_ARSIE_1</td>\n",
       "      <td>BID</td>\n",
       "      <td>2.083112</td>\n",
       "      <td>0.480035</td>\n",
       "      <td>-1.932233</td>\n",
       "      <td>-0.782315</td>\n",
       "      <td>1.912031</td>\n",
       "      <td>...</td>\n",
       "      <td>76.773894</td>\n",
       "      <td>-23.011637</td>\n",
       "      <td>holiday</td>\n",
       "      <td>Belluno</td>\n",
       "      <td>Hydro Run-of-river and poundage</td>\n",
       "      <td>1.000</td>\n",
       "      <td>1.000</td>\n",
       "      <td>0.00</td>\n",
       "      <td>-1.000</td>\n",
       "      <td>False</td>\n",
       "    </tr>\n",
       "    <tr>\n",
       "      <th>...</th>\n",
       "      <td>...</td>\n",
       "      <td>...</td>\n",
       "      <td>...</td>\n",
       "      <td>...</td>\n",
       "      <td>...</td>\n",
       "      <td>...</td>\n",
       "      <td>...</td>\n",
       "      <td>...</td>\n",
       "      <td>...</td>\n",
       "      <td>...</td>\n",
       "      <td>...</td>\n",
       "      <td>...</td>\n",
       "      <td>...</td>\n",
       "      <td>...</td>\n",
       "      <td>...</td>\n",
       "      <td>...</td>\n",
       "      <td>...</td>\n",
       "      <td>...</td>\n",
       "      <td>...</td>\n",
       "      <td>...</td>\n",
       "      <td>...</td>\n",
       "    </tr>\n",
       "    <tr>\n",
       "      <th>2022123117UP_VOGHERA_1_BID</th>\n",
       "      <td>17</td>\n",
       "      <td>20221231</td>\n",
       "      <td>2022</td>\n",
       "      <td>UP_VOGHERA_1</td>\n",
       "      <td>BID</td>\n",
       "      <td>0.237656</td>\n",
       "      <td>-2.008471</td>\n",
       "      <td>-1.806319</td>\n",
       "      <td>0.875068</td>\n",
       "      <td>-2.527147</td>\n",
       "      <td>...</td>\n",
       "      <td>61.887169</td>\n",
       "      <td>-23.085911</td>\n",
       "      <td>holiday</td>\n",
       "      <td>Pavia</td>\n",
       "      <td>Fossil Gas</td>\n",
       "      <td>0.540</td>\n",
       "      <td>0.540</td>\n",
       "      <td>135.00</td>\n",
       "      <td>-0.350</td>\n",
       "      <td>False</td>\n",
       "    </tr>\n",
       "    <tr>\n",
       "      <th>2022123118UP_VOGHERA_1_BID</th>\n",
       "      <td>18</td>\n",
       "      <td>20221231</td>\n",
       "      <td>2022</td>\n",
       "      <td>UP_VOGHERA_1</td>\n",
       "      <td>BID</td>\n",
       "      <td>0.055686</td>\n",
       "      <td>-2.259989</td>\n",
       "      <td>-1.329127</td>\n",
       "      <td>0.607693</td>\n",
       "      <td>-2.561474</td>\n",
       "      <td>...</td>\n",
       "      <td>76.887169</td>\n",
       "      <td>-23.085911</td>\n",
       "      <td>holiday</td>\n",
       "      <td>Pavia</td>\n",
       "      <td>Fossil Gas</td>\n",
       "      <td>1.000</td>\n",
       "      <td>1.000</td>\n",
       "      <td>136.00</td>\n",
       "      <td>-0.420</td>\n",
       "      <td>True</td>\n",
       "    </tr>\n",
       "    <tr>\n",
       "      <th>2022123119UP_VOGHERA_1_BID</th>\n",
       "      <td>19</td>\n",
       "      <td>20221231</td>\n",
       "      <td>2022</td>\n",
       "      <td>UP_VOGHERA_1</td>\n",
       "      <td>BID</td>\n",
       "      <td>-0.051126</td>\n",
       "      <td>-2.357014</td>\n",
       "      <td>-1.293692</td>\n",
       "      <td>0.548271</td>\n",
       "      <td>-2.484197</td>\n",
       "      <td>...</td>\n",
       "      <td>91.887169</td>\n",
       "      <td>-23.085911</td>\n",
       "      <td>holiday</td>\n",
       "      <td>Pavia</td>\n",
       "      <td>Fossil Gas</td>\n",
       "      <td>1.000</td>\n",
       "      <td>1.000</td>\n",
       "      <td>138.00</td>\n",
       "      <td>-0.414</td>\n",
       "      <td>True</td>\n",
       "    </tr>\n",
       "    <tr>\n",
       "      <th>2022123120UP_VOGHERA_1_BID</th>\n",
       "      <td>20</td>\n",
       "      <td>20221231</td>\n",
       "      <td>2022</td>\n",
       "      <td>UP_VOGHERA_1</td>\n",
       "      <td>BID</td>\n",
       "      <td>-0.029177</td>\n",
       "      <td>-2.330178</td>\n",
       "      <td>-1.385200</td>\n",
       "      <td>0.630366</td>\n",
       "      <td>-2.484197</td>\n",
       "      <td>...</td>\n",
       "      <td>106.887169</td>\n",
       "      <td>-23.085911</td>\n",
       "      <td>holiday</td>\n",
       "      <td>Pavia</td>\n",
       "      <td>Fossil Gas</td>\n",
       "      <td>1.000</td>\n",
       "      <td>1.000</td>\n",
       "      <td>141.00</td>\n",
       "      <td>-0.405</td>\n",
       "      <td>True</td>\n",
       "    </tr>\n",
       "    <tr>\n",
       "      <th>2022123121UP_VOGHERA_1_BID</th>\n",
       "      <td>21</td>\n",
       "      <td>20221231</td>\n",
       "      <td>2022</td>\n",
       "      <td>UP_VOGHERA_1</td>\n",
       "      <td>BID</td>\n",
       "      <td>-0.075154</td>\n",
       "      <td>-0.954465</td>\n",
       "      <td>-1.872673</td>\n",
       "      <td>0.745683</td>\n",
       "      <td>-2.449869</td>\n",
       "      <td>...</td>\n",
       "      <td>121.887169</td>\n",
       "      <td>-23.085911</td>\n",
       "      <td>holiday</td>\n",
       "      <td>Pavia</td>\n",
       "      <td>Fossil Gas</td>\n",
       "      <td>0.573</td>\n",
       "      <td>0.573</td>\n",
       "      <td>143.00</td>\n",
       "      <td>-0.369</td>\n",
       "      <td>False</td>\n",
       "    </tr>\n",
       "  </tbody>\n",
       "</table>\n",
       "<p>2177292 rows × 26 columns</p>\n",
       "</div>"
      ],
      "text/plain": [
       "                             hour      date  year           unit scope  \\\n",
       "2018010118UP_ALTOADDA_1_BID    18  20180101  2018  UP_ALTOADDA_1   BID   \n",
       "2018010119UP_ALTOADDA_1_BID    19  20180101  2018  UP_ALTOADDA_1   BID   \n",
       "2018010120UP_ALTOADDA_1_BID    20  20180101  2018  UP_ALTOADDA_1   BID   \n",
       "2018010117UP_ARSIE_1_BID       17  20180101  2018     UP_ARSIE_1   BID   \n",
       "2018010118UP_ARSIE_1_BID       18  20180101  2018     UP_ARSIE_1   BID   \n",
       "...                           ...       ...   ...            ...   ...   \n",
       "2022123117UP_VOGHERA_1_BID     17  20221231  2022   UP_VOGHERA_1   BID   \n",
       "2022123118UP_VOGHERA_1_BID     18  20221231  2022   UP_VOGHERA_1   BID   \n",
       "2022123119UP_VOGHERA_1_BID     19  20221231  2022   UP_VOGHERA_1   BID   \n",
       "2022123120UP_VOGHERA_1_BID     20  20221231  2022   UP_VOGHERA_1   BID   \n",
       "2022123121UP_VOGHERA_1_BID     21  20221231  2022   UP_VOGHERA_1   BID   \n",
       "\n",
       "                               SC_PC1    SC_PC2    IN_PC1    IN_PC2    CT_PC1  \\\n",
       "2018010118UP_ALTOADDA_1_BID  2.083112  0.480035 -1.932233 -0.782315  1.912031   \n",
       "2018010119UP_ALTOADDA_1_BID  1.249924  0.598779 -1.772487 -0.866850  0.891173   \n",
       "2018010120UP_ALTOADDA_1_BID  0.243493  0.768175 -1.758348 -0.872364 -0.334594   \n",
       "2018010117UP_ARSIE_1_BID     3.456008  0.661794 -2.372137 -0.624680  3.037220   \n",
       "2018010118UP_ARSIE_1_BID     2.083112  0.480035 -1.932233 -0.782315  1.912031   \n",
       "...                               ...       ...       ...       ...       ...   \n",
       "2022123117UP_VOGHERA_1_BID   0.237656 -2.008471 -1.806319  0.875068 -2.527147   \n",
       "2022123118UP_VOGHERA_1_BID   0.055686 -2.259989 -1.329127  0.607693 -2.561474   \n",
       "2022123119UP_VOGHERA_1_BID  -0.051126 -2.357014 -1.293692  0.548271 -2.484197   \n",
       "2022123120UP_VOGHERA_1_BID  -0.029177 -2.330178 -1.385200  0.630366 -2.484197   \n",
       "2022123121UP_VOGHERA_1_BID  -0.075154 -0.954465 -1.872673  0.745683 -2.449869   \n",
       "\n",
       "                             ...  SolarAngle  DeclAngle  WorkDay     Prov  \\\n",
       "2018010118UP_ALTOADDA_1_BID  ...   76.773894 -23.011637  holiday   Milano   \n",
       "2018010119UP_ALTOADDA_1_BID  ...   91.773894 -23.011637  holiday   Milano   \n",
       "2018010120UP_ALTOADDA_1_BID  ...  106.773894 -23.011637  holiday   Milano   \n",
       "2018010117UP_ARSIE_1_BID     ...   61.773894 -23.011637  holiday  Belluno   \n",
       "2018010118UP_ARSIE_1_BID     ...   76.773894 -23.011637  holiday  Belluno   \n",
       "...                          ...         ...        ...      ...      ...   \n",
       "2022123117UP_VOGHERA_1_BID   ...   61.887169 -23.085911  holiday    Pavia   \n",
       "2022123118UP_VOGHERA_1_BID   ...   76.887169 -23.085911  holiday    Pavia   \n",
       "2022123119UP_VOGHERA_1_BID   ...   91.887169 -23.085911  holiday    Pavia   \n",
       "2022123120UP_VOGHERA_1_BID   ...  106.887169 -23.085911  holiday    Pavia   \n",
       "2022123121UP_VOGHERA_1_BID   ...  121.887169 -23.085911  holiday    Pavia   \n",
       "\n",
       "                                                        Tech  PVold  PVnew  \\\n",
       "2018010118UP_ALTOADDA_1_BID  Hydro Run-of-river and poundage  0.095  0.095   \n",
       "2018010119UP_ALTOADDA_1_BID  Hydro Run-of-river and poundage  0.095  0.095   \n",
       "2018010120UP_ALTOADDA_1_BID  Hydro Run-of-river and poundage  0.095  0.095   \n",
       "2018010117UP_ARSIE_1_BID     Hydro Run-of-river and poundage  0.627  0.627   \n",
       "2018010118UP_ARSIE_1_BID     Hydro Run-of-river and poundage  1.000  1.000   \n",
       "...                                                      ...    ...    ...   \n",
       "2022123117UP_VOGHERA_1_BID                        Fossil Gas  0.540  0.540   \n",
       "2022123118UP_VOGHERA_1_BID                        Fossil Gas  1.000  1.000   \n",
       "2022123119UP_VOGHERA_1_BID                        Fossil Gas  1.000  1.000   \n",
       "2022123120UP_VOGHERA_1_BID                        Fossil Gas  1.000  1.000   \n",
       "2022123121UP_VOGHERA_1_BID                        Fossil Gas  0.573  0.573   \n",
       "\n",
       "                              Price PriceDiff Result  \n",
       "2018010118UP_ALTOADDA_1_BID   26.22    -0.349  False  \n",
       "2018010119UP_ALTOADDA_1_BID   26.22    -0.329  False  \n",
       "2018010120UP_ALTOADDA_1_BID   26.22    -0.324  False  \n",
       "2018010117UP_ARSIE_1_BID       0.00    -1.000  False  \n",
       "2018010118UP_ARSIE_1_BID       0.00    -1.000  False  \n",
       "...                             ...       ...    ...  \n",
       "2022123117UP_VOGHERA_1_BID   135.00    -0.350  False  \n",
       "2022123118UP_VOGHERA_1_BID   136.00    -0.420   True  \n",
       "2022123119UP_VOGHERA_1_BID   138.00    -0.414   True  \n",
       "2022123120UP_VOGHERA_1_BID   141.00    -0.405   True  \n",
       "2022123121UP_VOGHERA_1_BID   143.00    -0.369  False  \n",
       "\n",
       "[2177292 rows x 26 columns]"
      ]
     },
     "execution_count": 10,
     "metadata": {},
     "output_type": "execute_result"
    }
   ],
   "source": [
    "input_df = pd.read_pickle(input_path)\n",
    "input_df"
   ]
  },
  {
   "cell_type": "code",
   "execution_count": 33,
   "metadata": {},
   "outputs": [
    {
     "name": "stdout",
     "output_type": "stream",
     "text": [
      "Input dataset is composed of 2177292 observations\n",
      "15.9% bids accepted in the input dataset\n",
      "\n",
      "Training data is composed of 530593 observations and correspond to years 2018\n",
      "10.9% bids accepted in the training data\n",
      "\n",
      "Test data is composed of 417975 observations and correspond to years 2020\n",
      "19.6% bids accepted in the test data\n"
     ]
    }
   ],
   "source": [
    "# Subsample\n",
    "if subsample_size is not None:\n",
    "    print(f'Subsampled {subsample_size} rows from the input dataset')\n",
    "    df = input_df.sample(subsample_size)\n",
    "else:\n",
    "    df = input_df.copy()\n",
    "\n",
    "print('Input dataset is composed of {} observations'.format(len(input_df)))\n",
    "print('{:.1%} bids accepted in the input dataset\\n'.format(input_df[target].sum() / len(input_df)))\n",
    "\n",
    "train_df = df[df.year.isin(train_years)]\n",
    "print('Training data is composed of {} observations and correspond to years {}'.format(len(train_df), ' '.join([str(year) for year in train_years])))\n",
    "print('{:.1%} bids accepted in the training data\\n'.format(train_df[target].sum() / len(train_df)))\n",
    "\n",
    "test_df = df[df.year.isin(test_years)]\n",
    "# test_df.dropna(subset=['PriceDiff'], inplace=True) # HOTFIX\n",
    "# test_df = test_df[~(test_df == np.inf).any(axis=1)] # HOTFIX\n",
    "print('Test data is composed of {} observations and correspond to years {}'.format(len(test_df), ' '.join([str(year) for year in test_years])))\n",
    "print('{:.1%} bids accepted in the test data'.format(test_df[target].sum() / len(test_df)))"
   ]
  },
  {
   "cell_type": "code",
   "execution_count": 34,
   "metadata": {},
   "outputs": [
    {
     "name": "stdout",
     "output_type": "stream",
     "text": [
      "Input features are:\n",
      "['hour' 'SC_PC1' 'SC_PC2' 'IN_PC1' 'IN_PC2' 'CT_PC1' 'CT_PC2' 'PurchMGP'\n",
      " 'SellMGP' 'SolarAngle' 'DeclAngle' 'PVnew' 'PriceDiff' 'MargTech'\n",
      " 'WorkDay' 'Prov' 'Tech']\n"
     ]
    }
   ],
   "source": [
    "# We take of the fact that some categories could be absent in the training set but present in the test set\n",
    "categories = [input_df[feature].unique() for feature in features_to_encode]\n",
    "\n",
    "feature_transformer = make_column_transformer(\n",
    "    (OneHotEncoder(categories=categories), features_to_encode),\n",
    "    remainder=\"passthrough\"\n",
    ")\n",
    "\n",
    "X_train = feature_transformer.fit_transform(train_df[features])\n",
    "y_train = train_df[target]\n",
    "\n",
    "X_test = feature_transformer.transform(test_df[features])\n",
    "y_test = test_df[target]\n",
    "\n",
    "print('Input features are:')\n",
    "print(feature_transformer.feature_names_in_)"
   ]
  },
  {
   "cell_type": "markdown",
   "metadata": {},
   "source": [
    "## Model"
   ]
  },
  {
   "cell_type": "markdown",
   "metadata": {},
   "source": [
    "# Train"
   ]
  },
  {
   "cell_type": "code",
   "execution_count": 30,
   "metadata": {},
   "outputs": [
    {
     "name": "stdout",
     "output_type": "stream",
     "text": [
      "CPU times: user 28min 3s, sys: 8.7 s, total: 28min 12s\n",
      "Wall time: 2min 56s\n"
     ]
    }
   ],
   "source": [
    "%%time\n",
    "\n",
    "retrain = True\n",
    "save = False\n",
    "model_path = '{}/model_dumps/model_trained_{}_{}.joblib'.format(scope, scope, '_'.join([str(year) for year in train_years]))\n",
    "\n",
    "if retrain:\n",
    "    clf = RandomForestClassifier(\n",
    "        random_state=42,\n",
    "        n_jobs=-1\n",
    "    )\n",
    "\n",
    "    clf.fit(X_train, y_train)\n",
    "\n",
    "    if save:\n",
    "        joblib.dump(clf, model_path)\n",
    "        print(f'Model saved at {model_path}\\n')\n",
    "\n",
    "else:\n",
    "    clf = joblib.load(model_path)\n",
    "    print(f'Model {model_path} loaded\\n')\n"
   ]
  },
  {
   "cell_type": "markdown",
   "metadata": {},
   "source": [
    "## Test"
   ]
  },
  {
   "cell_type": "code",
   "execution_count": 35,
   "metadata": {},
   "outputs": [
    {
     "name": "stdout",
     "output_type": "stream",
     "text": [
      "Average Precision Score over 417975 samples for year 2020 is: 0.7406\n"
     ]
    },
    {
     "data": {
      "image/png": "[encoded data removed]",
      "text/plain": [
       "<Figure size 640x480 with 1 Axes>"
      ]
     },
     "metadata": {},
     "output_type": "display_data"
    }
   ],
   "source": [
    "y_probs = pd.Series(clf.predict_proba(X_test)[:,1], index=test_df.index)\n",
    "\n",
    "APS = average_precision_score(y_test, y_probs)\n",
    "\n",
    "print('Average Precision Score over {} samples for year {} is: {}'.format(len(y_test), ' '.join([str(year) for year in test_years]), round(APS, 4)))\n",
    "\n",
    "display = PrecisionRecallDisplay.from_estimator(\n",
    "    clf, X_test, y_test, name=\"RandomForest\", plot_chance_level=True\n",
    ")\n",
    "_ = display.ax_.set_title(\"Precision-Recall curve\")"
   ]
  },
  {
   "cell_type": "markdown",
   "metadata": {},
   "source": [
    "---"
   ]
  },
  {
   "cell_type": "markdown",
   "metadata": {},
   "source": [
    "# TESTS"
   ]
  },
  {
   "cell_type": "code",
   "execution_count": 40,
   "metadata": {},
   "outputs": [
    {
     "data": {
      "text/html": [
       "<div>\n",
       "<style scoped>\n",
       "    .dataframe tbody tr th:only-of-type {\n",
       "        vertical-align: middle;\n",
       "    }\n",
       "\n",
       "    .dataframe tbody tr th {\n",
       "        vertical-align: top;\n",
       "    }\n",
       "\n",
       "    .dataframe thead th {\n",
       "        text-align: right;\n",
       "    }\n",
       "</style>\n",
       "<table border=\"1\" class=\"dataframe\">\n",
       "  <thead>\n",
       "    <tr style=\"text-align: right;\">\n",
       "      <th></th>\n",
       "      <th>PVold</th>\n",
       "      <th>PVnew</th>\n",
       "    </tr>\n",
       "  </thead>\n",
       "  <tbody>\n",
       "    <tr>\n",
       "      <th>201907142UP_NPWRFRRRRB_8_BID</th>\n",
       "      <td>0.856</td>\n",
       "      <td>0.856</td>\n",
       "    </tr>\n",
       "    <tr>\n",
       "      <th>2019030520UP_GRAVEDONA_1_BID</th>\n",
       "      <td>0.992</td>\n",
       "      <td>0.992</td>\n",
       "    </tr>\n",
       "    <tr>\n",
       "      <th>201807125UP_MONFALCO_1_BID</th>\n",
       "      <td>1.000</td>\n",
       "      <td>1.000</td>\n",
       "    </tr>\n",
       "    <tr>\n",
       "      <th>2019062124UP_ROVESCA_1_BID</th>\n",
       "      <td>0.977</td>\n",
       "      <td>0.977</td>\n",
       "    </tr>\n",
       "    <tr>\n",
       "      <th>202104148UP_FUSINA_T_4_BID</th>\n",
       "      <td>1.000</td>\n",
       "      <td>1.000</td>\n",
       "    </tr>\n",
       "    <tr>\n",
       "      <th>2018121215UP_NPWRRVENNA_9_BID</th>\n",
       "      <td>1.000</td>\n",
       "      <td>1.000</td>\n",
       "    </tr>\n",
       "    <tr>\n",
       "      <th>2020102814UP_CURON_ME_1_BID</th>\n",
       "      <td>1.000</td>\n",
       "      <td>1.000</td>\n",
       "    </tr>\n",
       "    <tr>\n",
       "      <th>201908171UP_ETQCHIOTAS_1_BID</th>\n",
       "      <td>0.000</td>\n",
       "      <td>0.549</td>\n",
       "    </tr>\n",
       "    <tr>\n",
       "      <th>2021030121UP_TORVISCOSA_1_BID</th>\n",
       "      <td>1.000</td>\n",
       "      <td>1.000</td>\n",
       "    </tr>\n",
       "    <tr>\n",
       "      <th>202008136UP_GARGNANO_1_BID</th>\n",
       "      <td>0.000</td>\n",
       "      <td>0.570</td>\n",
       "    </tr>\n",
       "    <tr>\n",
       "      <th>2019101418UP_TALAMONA_2_BID</th>\n",
       "      <td>1.000</td>\n",
       "      <td>1.000</td>\n",
       "    </tr>\n",
       "    <tr>\n",
       "      <th>2018052319UP_LEVANTE_3_BID</th>\n",
       "      <td>1.000</td>\n",
       "      <td>1.000</td>\n",
       "    </tr>\n",
       "    <tr>\n",
       "      <th>201907198UP_LANA_1_BID</th>\n",
       "      <td>0.490</td>\n",
       "      <td>0.451</td>\n",
       "    </tr>\n",
       "    <tr>\n",
       "      <th>202004187UP_TORVISCOSA_1_BID</th>\n",
       "      <td>1.000</td>\n",
       "      <td>1.000</td>\n",
       "    </tr>\n",
       "    <tr>\n",
       "      <th>2022041421UP_VOGHERA_1_BID</th>\n",
       "      <td>1.000</td>\n",
       "      <td>1.000</td>\n",
       "    </tr>\n",
       "    <tr>\n",
       "      <th>202105219UP_SND_ALBAN_1_BID</th>\n",
       "      <td>1.000</td>\n",
       "      <td>1.000</td>\n",
       "    </tr>\n",
       "    <tr>\n",
       "      <th>2022030511UP_VALMALENCO_1_BID</th>\n",
       "      <td>0.331</td>\n",
       "      <td>0.331</td>\n",
       "    </tr>\n",
       "    <tr>\n",
       "      <th>2018031222UP_NPWRMNTOVA_2_BID</th>\n",
       "      <td>1.000</td>\n",
       "      <td>1.000</td>\n",
       "    </tr>\n",
       "    <tr>\n",
       "      <th>2019050218UP_LEVANTE_3_BID</th>\n",
       "      <td>1.000</td>\n",
       "      <td>1.000</td>\n",
       "    </tr>\n",
       "    <tr>\n",
       "      <th>2022120919UP_SLDGLRENZA_2_BID</th>\n",
       "      <td>1.000</td>\n",
       "      <td>1.000</td>\n",
       "    </tr>\n",
       "  </tbody>\n",
       "</table>\n",
       "</div>"
      ],
      "text/plain": [
       "                               PVold  PVnew\n",
       "201907142UP_NPWRFRRRRB_8_BID   0.856  0.856\n",
       "2019030520UP_GRAVEDONA_1_BID   0.992  0.992\n",
       "201807125UP_MONFALCO_1_BID     1.000  1.000\n",
       "2019062124UP_ROVESCA_1_BID     0.977  0.977\n",
       "202104148UP_FUSINA_T_4_BID     1.000  1.000\n",
       "2018121215UP_NPWRRVENNA_9_BID  1.000  1.000\n",
       "2020102814UP_CURON_ME_1_BID    1.000  1.000\n",
       "201908171UP_ETQCHIOTAS_1_BID   0.000  0.549\n",
       "2021030121UP_TORVISCOSA_1_BID  1.000  1.000\n",
       "202008136UP_GARGNANO_1_BID     0.000  0.570\n",
       "2019101418UP_TALAMONA_2_BID    1.000  1.000\n",
       "2018052319UP_LEVANTE_3_BID     1.000  1.000\n",
       "201907198UP_LANA_1_BID         0.490  0.451\n",
       "202004187UP_TORVISCOSA_1_BID   1.000  1.000\n",
       "2022041421UP_VOGHERA_1_BID     1.000  1.000\n",
       "202105219UP_SND_ALBAN_1_BID    1.000  1.000\n",
       "2022030511UP_VALMALENCO_1_BID  0.331  0.331\n",
       "2018031222UP_NPWRMNTOVA_2_BID  1.000  1.000\n",
       "2019050218UP_LEVANTE_3_BID     1.000  1.000\n",
       "2022120919UP_SLDGLRENZA_2_BID  1.000  1.000"
      ]
     },
     "execution_count": 40,
     "metadata": {},
     "output_type": "execute_result"
    }
   ],
   "source": [
    "input_df[['PVold', 'PVnew']].sample(20)"
   ]
  },
  {
   "cell_type": "code",
   "execution_count": null,
   "metadata": {},
   "outputs": [],
   "source": []
  },
  {
   "cell_type": "code",
   "execution_count": null,
   "metadata": {},
   "outputs": [
    {
     "data": {
      "application/vnd.jupyter.widget-view+json": {
       "model_id": "c4e46078a6024952a8c8468fc78d8f32",
       "version_major": 2,
       "version_minor": 0
      },
      "text/plain": [
       "  0%|          | 0/99 [00:00<?, ?it/s]"
      ]
     },
     "metadata": {},
     "output_type": "display_data"
    },
    {
     "name": "stderr",
     "output_type": "stream",
     "text": [
      "/Users/guillaume/prometheus/lib/python3.11/site-packages/sklearn/metrics/_classification.py:1471: UndefinedMetricWarning:\n",
      "\n",
      "Precision is ill-defined and being set to 0.0 due to no predicted samples. Use `zero_division` parameter to control this behavior.\n",
      "\n",
      "/Users/guillaume/prometheus/lib/python3.11/site-packages/sklearn/metrics/_classification.py:1471: UndefinedMetricWarning:\n",
      "\n",
      "Precision is ill-defined and being set to 0.0 due to no predicted samples. Use `zero_division` parameter to control this behavior.\n",
      "\n",
      "/Users/guillaume/prometheus/lib/python3.11/site-packages/sklearn/metrics/_classification.py:1471: UndefinedMetricWarning:\n",
      "\n",
      "Precision is ill-defined and being set to 0.0 due to no predicted samples. Use `zero_division` parameter to control this behavior.\n",
      "\n",
      "/Users/guillaume/prometheus/lib/python3.11/site-packages/sklearn/metrics/_classification.py:1471: UndefinedMetricWarning:\n",
      "\n",
      "Precision is ill-defined and being set to 0.0 due to no predicted samples. Use `zero_division` parameter to control this behavior.\n",
      "\n",
      "/Users/guillaume/prometheus/lib/python3.11/site-packages/sklearn/metrics/_classification.py:1471: UndefinedMetricWarning:\n",
      "\n",
      "Precision is ill-defined and being set to 0.0 due to no predicted samples. Use `zero_division` parameter to control this behavior.\n",
      "\n",
      "/Users/guillaume/prometheus/lib/python3.11/site-packages/sklearn/metrics/_classification.py:1471: UndefinedMetricWarning:\n",
      "\n",
      "Precision is ill-defined and being set to 0.0 due to no predicted samples. Use `zero_division` parameter to control this behavior.\n",
      "\n",
      "/Users/guillaume/prometheus/lib/python3.11/site-packages/sklearn/metrics/_classification.py:1471: UndefinedMetricWarning:\n",
      "\n",
      "Precision is ill-defined and being set to 0.0 due to no predicted samples. Use `zero_division` parameter to control this behavior.\n",
      "\n",
      "/Users/guillaume/prometheus/lib/python3.11/site-packages/sklearn/metrics/_classification.py:1471: UndefinedMetricWarning:\n",
      "\n",
      "Precision is ill-defined and being set to 0.0 due to no predicted samples. Use `zero_division` parameter to control this behavior.\n",
      "\n",
      "/Users/guillaume/prometheus/lib/python3.11/site-packages/sklearn/metrics/_classification.py:1471: UndefinedMetricWarning:\n",
      "\n",
      "Precision is ill-defined and being set to 0.0 due to no predicted samples. Use `zero_division` parameter to control this behavior.\n",
      "\n",
      "/Users/guillaume/prometheus/lib/python3.11/site-packages/sklearn/metrics/_classification.py:1471: UndefinedMetricWarning:\n",
      "\n",
      "Precision is ill-defined and being set to 0.0 due to no predicted samples. Use `zero_division` parameter to control this behavior.\n",
      "\n",
      "/Users/guillaume/prometheus/lib/python3.11/site-packages/sklearn/metrics/_classification.py:1471: UndefinedMetricWarning:\n",
      "\n",
      "Precision is ill-defined and being set to 0.0 due to no predicted samples. Use `zero_division` parameter to control this behavior.\n",
      "\n",
      "/Users/guillaume/prometheus/lib/python3.11/site-packages/sklearn/metrics/_classification.py:1471: UndefinedMetricWarning:\n",
      "\n",
      "Precision is ill-defined and being set to 0.0 due to no predicted samples. Use `zero_division` parameter to control this behavior.\n",
      "\n",
      "/Users/guillaume/prometheus/lib/python3.11/site-packages/sklearn/metrics/_classification.py:1471: UndefinedMetricWarning:\n",
      "\n",
      "Precision is ill-defined and being set to 0.0 due to no predicted samples. Use `zero_division` parameter to control this behavior.\n",
      "\n"
     ]
    },
    {
     "data": {
      "application/vnd.plotly.v1+json": {
       "config": {
        "plotlyServerURL": "https://plot.ly"
       },
       "data": [
        {
         "name": "Precision",
         "type": "scatter",
         "x": [
          0.01,
          0.02,
          0.03,
          0.04,
          0.05,
          0.06,
          0.07,
          0.08,
          0.09,
          0.1,
          0.11,
          0.12,
          0.13,
          0.14,
          0.15,
          0.16,
          0.17,
          0.18,
          0.19,
          0.2,
          0.21,
          0.22,
          0.23,
          0.24,
          0.25,
          0.26,
          0.27,
          0.28,
          0.29,
          0.3,
          0.31,
          0.32,
          0.33,
          0.34,
          0.35,
          0.36,
          0.37,
          0.38,
          0.39,
          0.4,
          0.41,
          0.42,
          0.43,
          0.44,
          0.45,
          0.46,
          0.47,
          0.48,
          0.49,
          0.5,
          0.51,
          0.52,
          0.53,
          0.54,
          0.55,
          0.56,
          0.57,
          0.58,
          0.59,
          0.6,
          0.61,
          0.62,
          0.63,
          0.64,
          0.65,
          0.66,
          0.67,
          0.68,
          0.69,
          0.7,
          0.71,
          0.72,
          0.73,
          0.74,
          0.75,
          0.76,
          0.77,
          0.78,
          0.79,
          0.8,
          0.81,
          0.82,
          0.83,
          0.84,
          0.85,
          0.86,
          0.87,
          0.88,
          0.89,
          0.9,
          0.91,
          0.92,
          0.93,
          0.94,
          0.95,
          0.96,
          0.97,
          0.98,
          0.99
         ],
         "y": [
          0.05657258256010385,
          0.07603395560871715,
          0.09352054035095658,
          0.10962514555943714,
          0.1256003448134313,
          0.14181418901160517,
          0.1581405767216333,
          0.17457248082898494,
          0.19149496195763932,
          0.2090653838063271,
          0.2281566220994026,
          0.24780199316050247,
          0.2697147175514831,
          0.2910481205534704,
          0.31368463607668745,
          0.3369446892333212,
          0.35915587017496997,
          0.3805510127060008,
          0.4005434658507067,
          0.4183313168226376,
          0.43417583295602846,
          0.44914890573594624,
          0.4625164267595734,
          0.4759868098860557,
          0.4876571150029595,
          0.49864819821488093,
          0.509846311072678,
          0.5204311857608424,
          0.5317372184959801,
          0.5433971178832979,
          0.5545504799236143,
          0.5677111278034124,
          0.5786199417841448,
          0.5911260709914321,
          0.6014649140017003,
          0.6113518803299315,
          0.6243346577704476,
          0.6377908380967716,
          0.651245243860256,
          0.663861660810061,
          0.6784797630799605,
          0.6891208096141682,
          0.6994363021420519,
          0.7120317957364808,
          0.7209571593979158,
          0.7333516785910842,
          0.7403606509309485,
          0.7483901366420607,
          0.7581599864704888,
          0.763210824648016,
          0.765944764553944,
          0.769347168179853,
          0.7728348319924279,
          0.7750579747487761,
          0.7733976176971072,
          0.7679418273790705,
          0.758985200845666,
          0.7609123082972866,
          0.7635881573133009,
          0.7565261044176707,
          0.7455990914253265,
          0.7373211963589077,
          0.7319054652880355,
          0.7237851662404092,
          0.7094594594594594,
          0.697752808988764,
          0.681877444589309,
          0.6819526627218935,
          0.6964912280701754,
          0.7130620985010707,
          0.7164556962025317,
          0.7407407407407407,
          0.7333333333333333,
          0.745945945945946,
          0.7435897435897436,
          0.7931034482758621,
          0.8390804597701149,
          0.835820895522388,
          0.8846153846153846,
          0.9166666666666666,
          0.9310344827586207,
          0.9047619047619048,
          0.8461538461538461,
          0.8571428571428571,
          0.6666666666666666,
          0.5,
          0,
          0,
          0,
          0,
          0,
          0,
          0,
          0,
          0,
          0,
          0,
          0,
          0
         ]
        },
        {
         "name": "Recall",
         "type": "scatter",
         "x": [
          0.01,
          0.02,
          0.03,
          0.04,
          0.05,
          0.06,
          0.07,
          0.08,
          0.09,
          0.1,
          0.11,
          0.12,
          0.13,
          0.14,
          0.15,
          0.16,
          0.17,
          0.18,
          0.19,
          0.2,
          0.21,
          0.22,
          0.23,
          0.24,
          0.25,
          0.26,
          0.27,
          0.28,
          0.29,
          0.3,
          0.31,
          0.32,
          0.33,
          0.34,
          0.35,
          0.36,
          0.37,
          0.38,
          0.39,
          0.4,
          0.41,
          0.42,
          0.43,
          0.44,
          0.45,
          0.46,
          0.47,
          0.48,
          0.49,
          0.5,
          0.51,
          0.52,
          0.53,
          0.54,
          0.55,
          0.56,
          0.57,
          0.58,
          0.59,
          0.6,
          0.61,
          0.62,
          0.63,
          0.64,
          0.65,
          0.66,
          0.67,
          0.68,
          0.69,
          0.7,
          0.71,
          0.72,
          0.73,
          0.74,
          0.75,
          0.76,
          0.77,
          0.78,
          0.79,
          0.8,
          0.81,
          0.82,
          0.83,
          0.84,
          0.85,
          0.86,
          0.87,
          0.88,
          0.89,
          0.9,
          0.91,
          0.92,
          0.93,
          0.94,
          0.95,
          0.96,
          0.97,
          0.98,
          0.99
         ],
         "y": [
          0.9978062303059312,
          0.9938973315783176,
          0.9891109249730765,
          0.9838059909856008,
          0.9763471740257669,
          0.9684894898488293,
          0.9574408679350644,
          0.9434406286147341,
          0.9286027681384867,
          0.9117705715767221,
          0.8957361094491644,
          0.8757528618722827,
          0.854134258705277,
          0.8289258505843404,
          0.8046747237844522,
          0.7777910733516812,
          0.7507877627537792,
          0.7239439990427187,
          0.69965298552112,
          0.6757608392166248,
          0.6502333373220055,
          0.6262215308523792,
          0.6036456463643253,
          0.5815085158150851,
          0.5586534242750588,
          0.5370348211080531,
          0.5173706673048543,
          0.49682900562402776,
          0.47748394559451157,
          0.45873718639065053,
          0.4401499740736309,
          0.42204140241713534,
          0.40437158469945356,
          0.38526584500019945,
          0.36683817957002113,
          0.3488492680786566,
          0.3321766184037334,
          0.3159826093893343,
          0.3003869012005903,
          0.2863467751585497,
          0.2741414383151849,
          0.26073949982050976,
          0.24745722149096566,
          0.2358102987515456,
          0.22352518846476008,
          0.2125962267161262,
          0.20142794463723027,
          0.1900602289497826,
          0.178812173427466,
          0.16648717641897012,
          0.15376331219337083,
          0.14195684256710941,
          0.130270033105979,
          0.11997925890471062,
          0.10877109010410434,
          0.09688484703442224,
          0.08591599856407801,
          0.07718080650951298,
          0.06892425511547207,
          0.060109289617486336,
          0.05237126560567987,
          0.045231542419528536,
          0.03952774121494954,
          0.03386382673208089,
          0.02931674045710183,
          0.02476965418212277,
          0.020860755454509192,
          0.01838777870846795,
          0.015835028519006023,
          0.013282278329544095,
          0.011287942244026964,
          0.00957281321048223,
          0.007458816959834072,
          0.005504367596027283,
          0.004626859718399745,
          0.0036695783973515216,
          0.0029117306848550116,
          0.0022336564157791872,
          0.0018347891986757608,
          0.0013162618164413067,
          0.001076941486179251,
          0.0007578477124965099,
          0.0004387539388137689,
          0.00023932033026205577,
          0.00007977344342068526,
          0.00003988672171034263,
          0,
          0,
          0,
          0,
          0,
          0,
          0,
          0,
          0,
          0,
          0,
          0,
          0
         ]
        },
        {
         "name": "Accuracy",
         "type": "scatter",
         "x": [
          0.01,
          0.02,
          0.03,
          0.04,
          0.05,
          0.06,
          0.07,
          0.08,
          0.09,
          0.1,
          0.11,
          0.12,
          0.13,
          0.14,
          0.15,
          0.16,
          0.17,
          0.18,
          0.19,
          0.2,
          0.21,
          0.22,
          0.23,
          0.24,
          0.25,
          0.26,
          0.27,
          0.28,
          0.29,
          0.3,
          0.31,
          0.32,
          0.33,
          0.34,
          0.35,
          0.36,
          0.37,
          0.38,
          0.39,
          0.4,
          0.41,
          0.42,
          0.43,
          0.44,
          0.45,
          0.46,
          0.47,
          0.48,
          0.49,
          0.5,
          0.51,
          0.52,
          0.53,
          0.54,
          0.55,
          0.56,
          0.57,
          0.58,
          0.59,
          0.6,
          0.61,
          0.62,
          0.63,
          0.64,
          0.65,
          0.66,
          0.67,
          0.68,
          0.69,
          0.7,
          0.71,
          0.72,
          0.73,
          0.74,
          0.75,
          0.76,
          0.77,
          0.78,
          0.79,
          0.8,
          0.81,
          0.82,
          0.83,
          0.84,
          0.85,
          0.86,
          0.87,
          0.88,
          0.89,
          0.9,
          0.91,
          0.92,
          0.93,
          0.94,
          0.95,
          0.96,
          0.97,
          0.98,
          0.99
         ],
         "y": [
          0.3739654417016271,
          0.5454290378532802,
          0.638938403644286,
          0.698807744707923,
          0.7434190388735843,
          0.7783449467941447,
          0.8066643859870242,
          0.8300653594771242,
          0.8498292491162366,
          0.8669223428581717,
          0.882087362033886,
          0.895325807090513,
          0.9075154396010011,
          0.917608947466345,
          0.9264240743741635,
          0.9340643511766507,
          0.9402311888942905,
          0.9452861952861953,
          0.9493118949446935,
          0.9524568321359765,
          0.9549655797427633,
          0.9570482003637084,
          0.9587016931045451,
          0.9601751321893924,
          0.9613184729049257,
          0.9622727572816699,
          0.9631340139361529,
          0.9638497272187112,
          0.964526428875805,
          0.9651386113061693,
          0.9656397606486733,
          0.966169418486709,
          0.9665160217744888,
          0.9668506214852026,
          0.9670381773768583,
          0.9671627144889177,
          0.9673592730633729,
          0.9675183204594969,
          0.9676308539944903,
          0.9676998745626196,
          0.9678079067562133,
          0.9677658942364825,
          0.9676908718798202,
          0.967665364278555,
          0.9675363258250959,
          0.9674718065983663,
          0.9673022560723096,
          0.967128204204853,
          0.966963155020196,
          0.9667020772190112,
          0.9663989868980957,
          0.9661214041784452,
          0.9658423210116615,
          0.9655857445518765,
          0.9652751519952946,
          0.9649255478132484,
          0.964587947208268,
          0.964373383268214,
          0.964172323352359,
          0.963915746892574,
          0.9636801766926544,
          0.9634776163296662,
          0.9633245707220752,
          0.9631700246673509,
          0.9630334839782255,
          0.9629104473132993,
          0.9628009146725724,
          0.9627513999171753,
          0.962718390080244,
          0.9626808789019128,
          0.9626388663821819,
          0.9626163596751832,
          0.9625608431312531,
          0.9625188306115222,
          0.9624963239045236,
          0.9624843203274576,
          0.9624708163032584,
          0.9624498100433929,
          0.9624423078077267,
          0.9624273033363943,
          0.962419801100728,
          0.962407797523662,
          0.9623957939465961,
          0.9623897921580631,
          0.9623837903695301,
          0.9623822899223968,
          0.9623822899223968,
          0.9623822899223968,
          0.9623822899223968,
          0.9623822899223968,
          0.9623822899223968,
          0.9623822899223968,
          0.9623822899223968,
          0.9623822899223968,
          0.9623822899223968,
          0.9623822899223968,
          0.9623822899223968,
          0.9623822899223968,
          0.9623822899223968
         ]
        },
        {
         "name": "Matthews Correlation Coefficient",
         "type": "scatter",
         "x": [
          0.01,
          0.02,
          0.03,
          0.04,
          0.05,
          0.06,
          0.07,
          0.08,
          0.09,
          0.1,
          0.11,
          0.12,
          0.13,
          0.14,
          0.15,
          0.16,
          0.17,
          0.18,
          0.19,
          0.2,
          0.21,
          0.22,
          0.23,
          0.24,
          0.25,
          0.26,
          0.27,
          0.28,
          0.29,
          0.3,
          0.31,
          0.32,
          0.33,
          0.34,
          0.35,
          0.36,
          0.37,
          0.38,
          0.39,
          0.4,
          0.41,
          0.42,
          0.43,
          0.44,
          0.45,
          0.46,
          0.47,
          0.48,
          0.49,
          0.5,
          0.51,
          0.52,
          0.53,
          0.54,
          0.55,
          0.56,
          0.57,
          0.58,
          0.59,
          0.6,
          0.61,
          0.62,
          0.63,
          0.64,
          0.65,
          0.66,
          0.67,
          0.68,
          0.69,
          0.7,
          0.71,
          0.72,
          0.73,
          0.74,
          0.75,
          0.76,
          0.77,
          0.78,
          0.79,
          0.8,
          0.81,
          0.82,
          0.83,
          0.84,
          0.85,
          0.86,
          0.87,
          0.88,
          0.89,
          0.9,
          0.91,
          0.92,
          0.93,
          0.94,
          0.95,
          0.96,
          0.97,
          0.98,
          0.99
         ],
         "y": [
          0.13988346367524565,
          0.19859149272683602,
          0.23882526258417297,
          0.2701719503399501,
          0.29726366975283214,
          0.32199106138970934,
          0.3439944136465277,
          0.3636005621145963,
          0.382006680277844,
          0.3991822983199558,
          0.41685360655484044,
          0.4325549307742443,
          0.44859050316702564,
          0.46138999236397854,
          0.4741760631068751,
          0.48512056109997664,
          0.4936969221403207,
          0.5003864241924122,
          0.5058472986355876,
          0.5089488612443032,
          0.509244602574001,
          0.5088576160628107,
          0.5074237100987816,
          0.505664857928524,
          0.5019449848893048,
          0.4978981509625303,
          0.49443729995414176,
          0.4897438386941988,
          0.4855689836867215,
          0.4814137044883415,
          0.4766200000394037,
          0.47255411432988054,
          0.467201144744835,
          0.46119096159737705,
          0.45410873968241633,
          0.4466034698390442,
          0.4406774189250477,
          0.43469071101662304,
          0.4285485891862339,
          0.4226972089180524,
          0.4184422378412519,
          0.41144455777594907,
          0.40397132869770763,
          0.3981133772035478,
          0.3901383609791047,
          0.3839477078028219,
          0.3755733189279777,
          0.36687896526869057,
          0.3582934971104793,
          0.34687797456316904,
          0.3339076223378921,
          0.32151867466642836,
          0.3086753930372594,
          0.29662463988202686,
          0.2820209182725535,
          0.26505659478606136,
          0.2479303925931219,
          0.2352658555193819,
          0.2227102266227375,
          0.20687527257585409,
          0.1915209996152211,
          0.17686188645572273,
          0.16463827408130688,
          0.15142654167674052,
          0.13932371180576883,
          0.12686983059114296,
          0.11493414724385842,
          0.10790604223101274,
          0.10131310748179573,
          0.09400276083517768,
          0.0868827944383836,
          0.0814985307841768,
          0.0715361076743094,
          0.06203275415163652,
          0.056772888420059384,
          0.05238819356006337,
          0.048129536214684326,
          0.042064240249750355,
          0.03932250654062079,
          0.03395599049061092,
          0.03097440051787354,
          0.025582805615477138,
          0.0187679011295954,
          0.013958988373180848,
          0.0070143335116034985,
          0.0042097586822474956,
          0,
          0,
          0,
          0,
          0,
          0,
          0,
          0,
          0,
          0,
          0,
          0,
          0
         ]
        },
        {
         "name": "F1-score",
         "type": "scatter",
         "x": [
          0.01,
          0.02,
          0.03,
          0.04,
          0.05,
          0.06,
          0.07,
          0.08,
          0.09,
          0.1,
          0.11,
          0.12,
          0.13,
          0.14,
          0.15,
          0.16,
          0.17,
          0.18,
          0.19,
          0.2,
          0.21,
          0.22,
          0.23,
          0.24,
          0.25,
          0.26,
          0.27,
          0.28,
          0.29,
          0.3,
          0.31,
          0.32,
          0.33,
          0.34,
          0.35,
          0.36,
          0.37,
          0.38,
          0.39,
          0.4,
          0.41,
          0.42,
          0.43,
          0.44,
          0.45,
          0.46,
          0.47,
          0.48,
          0.49,
          0.5,
          0.51,
          0.52,
          0.53,
          0.54,
          0.55,
          0.56,
          0.57,
          0.58,
          0.59,
          0.6,
          0.61,
          0.62,
          0.63,
          0.64,
          0.65,
          0.66,
          0.67,
          0.68,
          0.69,
          0.7,
          0.71,
          0.72,
          0.73,
          0.74,
          0.75,
          0.76,
          0.77,
          0.78,
          0.79,
          0.8,
          0.81,
          0.82,
          0.83,
          0.84,
          0.85,
          0.86,
          0.87,
          0.88,
          0.89,
          0.9,
          0.91,
          0.92,
          0.93,
          0.94,
          0.95,
          0.96,
          0.97,
          0.98,
          0.99
         ],
         "y": [
          0.10707437337351049,
          0.1412613062050551,
          0.17088398246919703,
          0.19726871013536482,
          0.22256875144913366,
          0.24740177698076296,
          0.27144634173922877,
          0.2946276204830532,
          0.31751292227541156,
          0.3401383825608214,
          0.3636790581300253,
          0.386297658215599,
          0.4099707081729941,
          0.43082663902565427,
          0.4514006981115188,
          0.47019675925925924,
          0.4858802271553949,
          0.49886621315192753,
          0.5094388940520446,
          0.5167607137410402,
          0.5206809543581719,
          0.5231066537833605,
          0.5237403100775193,
          0.5234829443447038,
          0.5207465794170137,
          0.5171301275157474,
          0.5135809312638582,
          0.508356290174472,
          0.5031523201075992,
          0.497491132450904,
          0.49077162552812986,
          0.484156581024503,
          0.4760518407212622,
          0.4664944096979064,
          0.45572568257271695,
          0.4442187063514234,
          0.43363707367872956,
          0.42259682065507315,
          0.4111368909512761,
          0.40011146718684687,
          0.3905002698786966,
          0.37833145238301935,
          0.36557555758522137,
          0.35428776892191527,
          0.34124954329557905,
          0.3296329509261264,
          0.3166938417157908,
          0.30313633182772437,
          0.2893751613736122,
          0.2733464309102816,
          0.2561121445655063,
          0.23968751052294845,
          0.22295798204594328,
          0.20779220779220778,
          0.19071930622093225,
          0.17206205284408868,
          0.15435880898634846,
          0.14014630260013036,
          0.12643594058681495,
          0.11136976684033552,
          0.09786821705426357,
          0.08523431921530308,
          0.07500473036896878,
          0.0647005029721079,
          0.056306737656567206,
          0.04784099225761719,
          0.040483009520860744,
          0.03580999728123665,
          0.03096603096603097,
          0.026078784556347406,
          0.02222571271499254,
          0.018901358535144713,
          0.01476743267788044,
          0.010928096293949953,
          0.009196495817972807,
          0.0073053559375868505,
          0.005803322998648541,
          0.004455406158007797,
          0.0036619830434263425,
          0.002628748954474848,
          0.002151394422310757,
          0.001514426908974972,
          0.0008770531015786957,
          0.00047850705797910516,
          0.00015952779771875248,
          0.000079767080126032,
          0,
          0,
          0,
          0,
          0,
          0,
          0,
          0,
          0,
          0,
          0,
          0,
          0
         ]
        }
       ],
       "layout": {
        "font": {
         "color": "RebeccaPurple",
         "family": "Times New Roman, monospace",
         "size": 14
        },
        "height": 700,
        "template": {
         "data": {
          "bar": [
           {
            "error_x": {
             "color": "#2a3f5f"
            },
            "error_y": {
             "color": "#2a3f5f"
            },
            "marker": {
             "line": {
              "color": "white",
              "width": 0.5
             },
             "pattern": {
              "fillmode": "overlay",
              "size": 10,
              "solidity": 0.2
             }
            },
            "type": "bar"
           }
          ],
          "barpolar": [
           {
            "marker": {
             "line": {
              "color": "white",
              "width": 0.5
             },
             "pattern": {
              "fillmode": "overlay",
              "size": 10,
              "solidity": 0.2
             }
            },
            "type": "barpolar"
           }
          ],
          "carpet": [
           {
            "aaxis": {
             "endlinecolor": "#2a3f5f",
             "gridcolor": "#C8D4E3",
             "linecolor": "#C8D4E3",
             "minorgridcolor": "#C8D4E3",
             "startlinecolor": "#2a3f5f"
            },
            "baxis": {
             "endlinecolor": "#2a3f5f",
             "gridcolor": "#C8D4E3",
             "linecolor": "#C8D4E3",
             "minorgridcolor": "#C8D4E3",
             "startlinecolor": "#2a3f5f"
            },
            "type": "carpet"
           }
          ],
          "choropleth": [
           {
            "colorbar": {
             "outlinewidth": 0,
             "ticks": ""
            },
            "type": "choropleth"
           }
          ],
          "contour": [
           {
            "colorbar": {
             "outlinewidth": 0,
             "ticks": ""
            },
            "colorscale": [
             [
              0,
              "#0d0887"
             ],
             [
              0.1111111111111111,
              "#46039f"
             ],
             [
              0.2222222222222222,
              "#7201a8"
             ],
             [
              0.3333333333333333,
              "#9c179e"
             ],
             [
              0.4444444444444444,
              "#bd3786"
             ],
             [
              0.5555555555555556,
              "#d8576b"
             ],
             [
              0.6666666666666666,
              "#ed7953"
             ],
             [
              0.7777777777777778,
              "#fb9f3a"
             ],
             [
              0.8888888888888888,
              "#fdca26"
             ],
             [
              1,
              "#f0f921"
             ]
            ],
            "type": "contour"
           }
          ],
          "contourcarpet": [
           {
            "colorbar": {
             "outlinewidth": 0,
             "ticks": ""
            },
            "type": "contourcarpet"
           }
          ],
          "heatmap": [
           {
            "colorbar": {
             "outlinewidth": 0,
             "ticks": ""
            },
            "colorscale": [
             [
              0,
              "#0d0887"
             ],
             [
              0.1111111111111111,
              "#46039f"
             ],
             [
              0.2222222222222222,
              "#7201a8"
             ],
             [
              0.3333333333333333,
              "#9c179e"
             ],
             [
              0.4444444444444444,
              "#bd3786"
             ],
             [
              0.5555555555555556,
              "#d8576b"
             ],
             [
              0.6666666666666666,
              "#ed7953"
             ],
             [
              0.7777777777777778,
              "#fb9f3a"
             ],
             [
              0.8888888888888888,
              "#fdca26"
             ],
             [
              1,
              "#f0f921"
             ]
            ],
            "type": "heatmap"
           }
          ],
          "heatmapgl": [
           {
            "colorbar": {
             "outlinewidth": 0,
             "ticks": ""
            },
            "colorscale": [
             [
              0,
              "#0d0887"
             ],
             [
              0.1111111111111111,
              "#46039f"
             ],
             [
              0.2222222222222222,
              "#7201a8"
             ],
             [
              0.3333333333333333,
              "#9c179e"
             ],
             [
              0.4444444444444444,
              "#bd3786"
             ],
             [
              0.5555555555555556,
              "#d8576b"
             ],
             [
              0.6666666666666666,
              "#ed7953"
             ],
             [
              0.7777777777777778,
              "#fb9f3a"
             ],
             [
              0.8888888888888888,
              "#fdca26"
             ],
             [
              1,
              "#f0f921"
             ]
            ],
            "type": "heatmapgl"
           }
          ],
          "histogram": [
           {
            "marker": {
             "pattern": {
              "fillmode": "overlay",
              "size": 10,
              "solidity": 0.2
             }
            },
            "type": "histogram"
           }
          ],
          "histogram2d": [
           {
            "colorbar": {
             "outlinewidth": 0,
             "ticks": ""
            },
            "colorscale": [
             [
              0,
              "#0d0887"
             ],
             [
              0.1111111111111111,
              "#46039f"
             ],
             [
              0.2222222222222222,
              "#7201a8"
             ],
             [
              0.3333333333333333,
              "#9c179e"
             ],
             [
              0.4444444444444444,
              "#bd3786"
             ],
             [
              0.5555555555555556,
              "#d8576b"
             ],
             [
              0.6666666666666666,
              "#ed7953"
             ],
             [
              0.7777777777777778,
              "#fb9f3a"
             ],
             [
              0.8888888888888888,
              "#fdca26"
             ],
             [
              1,
              "#f0f921"
             ]
            ],
            "type": "histogram2d"
           }
          ],
          "histogram2dcontour": [
           {
            "colorbar": {
             "outlinewidth": 0,
             "ticks": ""
            },
            "colorscale": [
             [
              0,
              "#0d0887"
             ],
             [
              0.1111111111111111,
              "#46039f"
             ],
             [
              0.2222222222222222,
              "#7201a8"
             ],
             [
              0.3333333333333333,
              "#9c179e"
             ],
             [
              0.4444444444444444,
              "#bd3786"
             ],
             [
              0.5555555555555556,
              "#d8576b"
             ],
             [
              0.6666666666666666,
              "#ed7953"
             ],
             [
              0.7777777777777778,
              "#fb9f3a"
             ],
             [
              0.8888888888888888,
              "#fdca26"
             ],
             [
              1,
              "#f0f921"
             ]
            ],
            "type": "histogram2dcontour"
           }
          ],
          "mesh3d": [
           {
            "colorbar": {
             "outlinewidth": 0,
             "ticks": ""
            },
            "type": "mesh3d"
           }
          ],
          "parcoords": [
           {
            "line": {
             "colorbar": {
              "outlinewidth": 0,
              "ticks": ""
             }
            },
            "type": "parcoords"
           }
          ],
          "pie": [
           {
            "automargin": true,
            "type": "pie"
           }
          ],
          "scatter": [
           {
            "fillpattern": {
             "fillmode": "overlay",
             "size": 10,
             "solidity": 0.2
            },
            "type": "scatter"
           }
          ],
          "scatter3d": [
           {
            "line": {
             "colorbar": {
              "outlinewidth": 0,
              "ticks": ""
             }
            },
            "marker": {
             "colorbar": {
              "outlinewidth": 0,
              "ticks": ""
             }
            },
            "type": "scatter3d"
           }
          ],
          "scattercarpet": [
           {
            "marker": {
             "colorbar": {
              "outlinewidth": 0,
              "ticks": ""
             }
            },
            "type": "scattercarpet"
           }
          ],
          "scattergeo": [
           {
            "marker": {
             "colorbar": {
              "outlinewidth": 0,
              "ticks": ""
             }
            },
            "type": "scattergeo"
           }
          ],
          "scattergl": [
           {
            "marker": {
             "colorbar": {
              "outlinewidth": 0,
              "ticks": ""
             }
            },
            "type": "scattergl"
           }
          ],
          "scattermapbox": [
           {
            "marker": {
             "colorbar": {
              "outlinewidth": 0,
              "ticks": ""
             }
            },
            "type": "scattermapbox"
           }
          ],
          "scatterpolar": [
           {
            "marker": {
             "colorbar": {
              "outlinewidth": 0,
              "ticks": ""
             }
            },
            "type": "scatterpolar"
           }
          ],
          "scatterpolargl": [
           {
            "marker": {
             "colorbar": {
              "outlinewidth": 0,
              "ticks": ""
             }
            },
            "type": "scatterpolargl"
           }
          ],
          "scatterternary": [
           {
            "marker": {
             "colorbar": {
              "outlinewidth": 0,
              "ticks": ""
             }
            },
            "type": "scatterternary"
           }
          ],
          "surface": [
           {
            "colorbar": {
             "outlinewidth": 0,
             "ticks": ""
            },
            "colorscale": [
             [
              0,
              "#0d0887"
             ],
             [
              0.1111111111111111,
              "#46039f"
             ],
             [
              0.2222222222222222,
              "#7201a8"
             ],
             [
              0.3333333333333333,
              "#9c179e"
             ],
             [
              0.4444444444444444,
              "#bd3786"
             ],
             [
              0.5555555555555556,
              "#d8576b"
             ],
             [
              0.6666666666666666,
              "#ed7953"
             ],
             [
              0.7777777777777778,
              "#fb9f3a"
             ],
             [
              0.8888888888888888,
              "#fdca26"
             ],
             [
              1,
              "#f0f921"
             ]
            ],
            "type": "surface"
           }
          ],
          "table": [
           {
            "cells": {
             "fill": {
              "color": "#EBF0F8"
             },
             "line": {
              "color": "white"
             }
            },
            "header": {
             "fill": {
              "color": "#C8D4E3"
             },
             "line": {
              "color": "white"
             }
            },
            "type": "table"
           }
          ]
         },
         "layout": {
          "annotationdefaults": {
           "arrowcolor": "#2a3f5f",
           "arrowhead": 0,
           "arrowwidth": 1
          },
          "autotypenumbers": "strict",
          "coloraxis": {
           "colorbar": {
            "outlinewidth": 0,
            "ticks": ""
           }
          },
          "colorscale": {
           "diverging": [
            [
             0,
             "#8e0152"
            ],
            [
             0.1,
             "#c51b7d"
            ],
            [
             0.2,
             "#de77ae"
            ],
            [
             0.3,
             "#f1b6da"
            ],
            [
             0.4,
             "#fde0ef"
            ],
            [
             0.5,
             "#f7f7f7"
            ],
            [
             0.6,
             "#e6f5d0"
            ],
            [
             0.7,
             "#b8e186"
            ],
            [
             0.8,
             "#7fbc41"
            ],
            [
             0.9,
             "#4d9221"
            ],
            [
             1,
             "#276419"
            ]
           ],
           "sequential": [
            [
             0,
             "#0d0887"
            ],
            [
             0.1111111111111111,
             "#46039f"
            ],
            [
             0.2222222222222222,
             "#7201a8"
            ],
            [
             0.3333333333333333,
             "#9c179e"
            ],
            [
             0.4444444444444444,
             "#bd3786"
            ],
            [
             0.5555555555555556,
             "#d8576b"
            ],
            [
             0.6666666666666666,
             "#ed7953"
            ],
            [
             0.7777777777777778,
             "#fb9f3a"
            ],
            [
             0.8888888888888888,
             "#fdca26"
            ],
            [
             1,
             "#f0f921"
            ]
           ],
           "sequentialminus": [
            [
             0,
             "#0d0887"
            ],
            [
             0.1111111111111111,
             "#46039f"
            ],
            [
             0.2222222222222222,
             "#7201a8"
            ],
            [
             0.3333333333333333,
             "#9c179e"
            ],
            [
             0.4444444444444444,
             "#bd3786"
            ],
            [
             0.5555555555555556,
             "#d8576b"
            ],
            [
             0.6666666666666666,
             "#ed7953"
            ],
            [
             0.7777777777777778,
             "#fb9f3a"
            ],
            [
             0.8888888888888888,
             "#fdca26"
            ],
            [
             1,
             "#f0f921"
            ]
           ]
          },
          "colorway": [
           "#636efa",
           "#EF553B",
           "#00cc96",
           "#ab63fa",
           "#FFA15A",
           "#19d3f3",
           "#FF6692",
           "#B6E880",
           "#FF97FF",
           "#FECB52"
          ],
          "font": {
           "color": "#2a3f5f"
          },
          "geo": {
           "bgcolor": "white",
           "lakecolor": "white",
           "landcolor": "white",
           "showlakes": true,
           "showland": true,
           "subunitcolor": "#C8D4E3"
          },
          "hoverlabel": {
           "align": "left"
          },
          "hovermode": "closest",
          "mapbox": {
           "style": "light"
          },
          "paper_bgcolor": "white",
          "plot_bgcolor": "white",
          "polar": {
           "angularaxis": {
            "gridcolor": "#EBF0F8",
            "linecolor": "#EBF0F8",
            "ticks": ""
           },
           "bgcolor": "white",
           "radialaxis": {
            "gridcolor": "#EBF0F8",
            "linecolor": "#EBF0F8",
            "ticks": ""
           }
          },
          "scene": {
           "xaxis": {
            "backgroundcolor": "white",
            "gridcolor": "#DFE8F3",
            "gridwidth": 2,
            "linecolor": "#EBF0F8",
            "showbackground": true,
            "ticks": "",
            "zerolinecolor": "#EBF0F8"
           },
           "yaxis": {
            "backgroundcolor": "white",
            "gridcolor": "#DFE8F3",
            "gridwidth": 2,
            "linecolor": "#EBF0F8",
            "showbackground": true,
            "ticks": "",
            "zerolinecolor": "#EBF0F8"
           },
           "zaxis": {
            "backgroundcolor": "white",
            "gridcolor": "#DFE8F3",
            "gridwidth": 2,
            "linecolor": "#EBF0F8",
            "showbackground": true,
            "ticks": "",
            "zerolinecolor": "#EBF0F8"
           }
          },
          "shapedefaults": {
           "line": {
            "color": "#2a3f5f"
           }
          },
          "ternary": {
           "aaxis": {
            "gridcolor": "#DFE8F3",
            "linecolor": "#A2B1C6",
            "ticks": ""
           },
           "baxis": {
            "gridcolor": "#DFE8F3",
            "linecolor": "#A2B1C6",
            "ticks": ""
           },
           "bgcolor": "white",
           "caxis": {
            "gridcolor": "#DFE8F3",
            "linecolor": "#A2B1C6",
            "ticks": ""
           }
          },
          "title": {
           "x": 0.05
          },
          "xaxis": {
           "automargin": true,
           "gridcolor": "#EBF0F8",
           "linecolor": "#EBF0F8",
           "ticks": "",
           "title": {
            "standoff": 15
           },
           "zerolinecolor": "#EBF0F8",
           "zerolinewidth": 2
          },
          "yaxis": {
           "automargin": true,
           "gridcolor": "#EBF0F8",
           "linecolor": "#EBF0F8",
           "ticks": "",
           "title": {
            "standoff": 15
           },
           "zerolinecolor": "#EBF0F8",
           "zerolinewidth": 2
          }
         }
        },
        "title": {
         "text": "Classification performance scores depending on probability threshold"
        },
        "width": 1000,
        "xaxis": {
         "title": {
          "text": "Classification level"
         }
        }
       }
      }
     },
     "metadata": {},
     "output_type": "display_data"
    }
   ],
   "source": [
    "find_threshold = True\n",
    "\n",
    "y_probs = pd.Series(clf.predict_proba(X_test)[:,1], index=test_df.index)\n",
    "\n",
    "if find_threshold:\n",
    "    precision, recall, mcc, accuracy, f1, threshold = test_optimal_threshold(y_probs, y_test)\n",
    "else:\n",
    "    print('No threshold search')"
   ]
  }
 ],
 "metadata": {
  "kernelspec": {
   "display_name": "prometheus",
   "language": "python",
   "name": "python3"
  },
  "language_info": {
   "codemirror_mode": {
    "name": "ipython",
    "version": 3
   },
   "file_extension": ".py",
   "mimetype": "text/x-python",
   "name": "python",
   "nbconvert_exporter": "python",
   "pygments_lexer": "ipython3",
   "version": "3.11.3"
  }
 },
 "nbformat": 4,
 "nbformat_minor": 2
}
